{
    "cells": [
        {
            "cell_type": "markdown",
            "metadata": {},
            "source": [
                "# Exploración de datos sobre Airbnb en Nueva York 2019. Análisis, visualización y predicción"
            ]
        },
        {
            "cell_type": "markdown",
            "metadata": {},
            "source": [
                "Este archivo de datos incluye toda la información necesaria para saber más sobre los hosts, la disponibilidad geográfica, las métricas necesarias para hacer predicciones y sacar conclusiones."
            ]
        },
        {
            "cell_type": "code",
            "execution_count": 1,
            "metadata": {},
            "outputs": [
                {
                    "name": "stderr",
                    "output_type": "stream",
                    "text": [
                        "/tmp/ipykernel_468/2387062644.py:4: DeprecationWarning: \n",
                        "Pyarrow will become a required dependency of pandas in the next major release of pandas (pandas 3.0),\n",
                        "(to allow more performant data types, such as the Arrow string type, and better interoperability with other libraries)\n",
                        "but was not found to be installed on your system.\n",
                        "If this would cause problems for you,\n",
                        "please provide us feedback at https://github.com/pandas-dev/pandas/issues/54466\n",
                        "        \n",
                        "  import pandas as pd\n"
                    ]
                }
            ],
            "source": [
                "# Importando librerías necesarias para el análisis del Dataset\n",
                "\n",
                "import numpy as np\n",
                "import pandas as pd\n",
                "import matplotlib.pyplot as plt\n",
                "import seaborn as sns"
            ]
        },
        {
            "cell_type": "code",
            "execution_count": 2,
            "metadata": {},
            "outputs": [
                {
                    "name": "stdout",
                    "output_type": "stream",
                    "text": [
                        "(48895, 16)\n",
                        "<bound method DataFrame.info of              id                                               name   host_id  \\\n",
                        "0          2539                 Clean & quiet apt home by the park      2787   \n",
                        "1          2595                              Skylit Midtown Castle      2845   \n",
                        "2          3647                THE VILLAGE OF HARLEM....NEW YORK !      4632   \n",
                        "3          3831                    Cozy Entire Floor of Brownstone      4869   \n",
                        "4          5022   Entire Apt: Spacious Studio/Loft by central park      7192   \n",
                        "...         ...                                                ...       ...   \n",
                        "48890  36484665    Charming one bedroom - newly renovated rowhouse   8232441   \n",
                        "48891  36485057      Affordable room in Bushwick/East Williamsburg   6570630   \n",
                        "48892  36485431            Sunny Studio at Historical Neighborhood  23492952   \n",
                        "48893  36485609               43rd St. Time Square-cozy single bed  30985759   \n",
                        "48894  36487245  Trendy duplex in the very heart of Hell's Kitchen  68119814   \n",
                        "\n",
                        "           host_name neighbourhood_group       neighbourhood  latitude  \\\n",
                        "0               John            Brooklyn          Kensington  40.64749   \n",
                        "1           Jennifer           Manhattan             Midtown  40.75362   \n",
                        "2          Elisabeth           Manhattan              Harlem  40.80902   \n",
                        "3        LisaRoxanne            Brooklyn        Clinton Hill  40.68514   \n",
                        "4              Laura           Manhattan         East Harlem  40.79851   \n",
                        "...              ...                 ...                 ...       ...   \n",
                        "48890        Sabrina            Brooklyn  Bedford-Stuyvesant  40.67853   \n",
                        "48891        Marisol            Brooklyn            Bushwick  40.70184   \n",
                        "48892  Ilgar & Aysel           Manhattan              Harlem  40.81475   \n",
                        "48893            Taz           Manhattan      Hell's Kitchen  40.75751   \n",
                        "48894     Christophe           Manhattan      Hell's Kitchen  40.76404   \n",
                        "\n",
                        "       longitude        room_type  price  minimum_nights  number_of_reviews  \\\n",
                        "0      -73.97237     Private room    149               1                  9   \n",
                        "1      -73.98377  Entire home/apt    225               1                 45   \n",
                        "2      -73.94190     Private room    150               3                  0   \n",
                        "3      -73.95976  Entire home/apt     89               1                270   \n",
                        "4      -73.94399  Entire home/apt     80              10                  9   \n",
                        "...          ...              ...    ...             ...                ...   \n",
                        "48890  -73.94995     Private room     70               2                  0   \n",
                        "48891  -73.93317     Private room     40               4                  0   \n",
                        "48892  -73.94867  Entire home/apt    115              10                  0   \n",
                        "48893  -73.99112      Shared room     55               1                  0   \n",
                        "48894  -73.98933     Private room     90               7                  0   \n",
                        "\n",
                        "      last_review  reviews_per_month  calculated_host_listings_count  \\\n",
                        "0      2018-10-19               0.21                               6   \n",
                        "1      2019-05-21               0.38                               2   \n",
                        "2             NaN                NaN                               1   \n",
                        "3      2019-07-05               4.64                               1   \n",
                        "4      2018-11-19               0.10                               1   \n",
                        "...           ...                ...                             ...   \n",
                        "48890         NaN                NaN                               2   \n",
                        "48891         NaN                NaN                               2   \n",
                        "48892         NaN                NaN                               1   \n",
                        "48893         NaN                NaN                               6   \n",
                        "48894         NaN                NaN                               1   \n",
                        "\n",
                        "       availability_365  \n",
                        "0                   365  \n",
                        "1                   355  \n",
                        "2                   365  \n",
                        "3                   194  \n",
                        "4                     0  \n",
                        "...                 ...  \n",
                        "48890                 9  \n",
                        "48891                36  \n",
                        "48892                27  \n",
                        "48893                 2  \n",
                        "48894                23  \n",
                        "\n",
                        "[48895 rows x 16 columns]>\n"
                    ]
                }
            ],
            "source": [
                "# Cargamos el conjunto de datos a nuestro Dataframe\n",
                "\n",
                "df = pd.read_csv(\"/workspaces/machine-learning-python-template/data/raw/AB_NYC_2019.csv\")\n",
                "\n",
                "# Visualizamos las dimensiones e informacion del conjunto de datos\n",
                "\n",
                "print(df.shape)\n",
                "print(df.info)\n"
            ]
        },
        {
            "cell_type": "code",
            "execution_count": 3,
            "metadata": {},
            "outputs": [
                {
                    "data": {
                        "text/html": [
                            "<div>\n",
                            "<style scoped>\n",
                            "    .dataframe tbody tr th:only-of-type {\n",
                            "        vertical-align: middle;\n",
                            "    }\n",
                            "\n",
                            "    .dataframe tbody tr th {\n",
                            "        vertical-align: top;\n",
                            "    }\n",
                            "\n",
                            "    .dataframe thead th {\n",
                            "        text-align: right;\n",
                            "    }\n",
                            "</style>\n",
                            "<table border=\"1\" class=\"dataframe\">\n",
                            "  <thead>\n",
                            "    <tr style=\"text-align: right;\">\n",
                            "      <th></th>\n",
                            "      <th>id</th>\n",
                            "      <th>name</th>\n",
                            "      <th>host_id</th>\n",
                            "      <th>host_name</th>\n",
                            "      <th>neighbourhood_group</th>\n",
                            "      <th>neighbourhood</th>\n",
                            "      <th>latitude</th>\n",
                            "      <th>longitude</th>\n",
                            "      <th>room_type</th>\n",
                            "      <th>price</th>\n",
                            "      <th>minimum_nights</th>\n",
                            "      <th>number_of_reviews</th>\n",
                            "      <th>last_review</th>\n",
                            "      <th>reviews_per_month</th>\n",
                            "      <th>calculated_host_listings_count</th>\n",
                            "      <th>availability_365</th>\n",
                            "    </tr>\n",
                            "  </thead>\n",
                            "  <tbody>\n",
                            "    <tr>\n",
                            "      <th>0</th>\n",
                            "      <td>2539</td>\n",
                            "      <td>Clean &amp; quiet apt home by the park</td>\n",
                            "      <td>2787</td>\n",
                            "      <td>John</td>\n",
                            "      <td>Brooklyn</td>\n",
                            "      <td>Kensington</td>\n",
                            "      <td>40.64749</td>\n",
                            "      <td>-73.97237</td>\n",
                            "      <td>Private room</td>\n",
                            "      <td>149</td>\n",
                            "      <td>1</td>\n",
                            "      <td>9</td>\n",
                            "      <td>2018-10-19</td>\n",
                            "      <td>0.21</td>\n",
                            "      <td>6</td>\n",
                            "      <td>365</td>\n",
                            "    </tr>\n",
                            "    <tr>\n",
                            "      <th>1</th>\n",
                            "      <td>2595</td>\n",
                            "      <td>Skylit Midtown Castle</td>\n",
                            "      <td>2845</td>\n",
                            "      <td>Jennifer</td>\n",
                            "      <td>Manhattan</td>\n",
                            "      <td>Midtown</td>\n",
                            "      <td>40.75362</td>\n",
                            "      <td>-73.98377</td>\n",
                            "      <td>Entire home/apt</td>\n",
                            "      <td>225</td>\n",
                            "      <td>1</td>\n",
                            "      <td>45</td>\n",
                            "      <td>2019-05-21</td>\n",
                            "      <td>0.38</td>\n",
                            "      <td>2</td>\n",
                            "      <td>355</td>\n",
                            "    </tr>\n",
                            "    <tr>\n",
                            "      <th>2</th>\n",
                            "      <td>3647</td>\n",
                            "      <td>THE VILLAGE OF HARLEM....NEW YORK !</td>\n",
                            "      <td>4632</td>\n",
                            "      <td>Elisabeth</td>\n",
                            "      <td>Manhattan</td>\n",
                            "      <td>Harlem</td>\n",
                            "      <td>40.80902</td>\n",
                            "      <td>-73.94190</td>\n",
                            "      <td>Private room</td>\n",
                            "      <td>150</td>\n",
                            "      <td>3</td>\n",
                            "      <td>0</td>\n",
                            "      <td>NaN</td>\n",
                            "      <td>NaN</td>\n",
                            "      <td>1</td>\n",
                            "      <td>365</td>\n",
                            "    </tr>\n",
                            "    <tr>\n",
                            "      <th>3</th>\n",
                            "      <td>3831</td>\n",
                            "      <td>Cozy Entire Floor of Brownstone</td>\n",
                            "      <td>4869</td>\n",
                            "      <td>LisaRoxanne</td>\n",
                            "      <td>Brooklyn</td>\n",
                            "      <td>Clinton Hill</td>\n",
                            "      <td>40.68514</td>\n",
                            "      <td>-73.95976</td>\n",
                            "      <td>Entire home/apt</td>\n",
                            "      <td>89</td>\n",
                            "      <td>1</td>\n",
                            "      <td>270</td>\n",
                            "      <td>2019-07-05</td>\n",
                            "      <td>4.64</td>\n",
                            "      <td>1</td>\n",
                            "      <td>194</td>\n",
                            "    </tr>\n",
                            "    <tr>\n",
                            "      <th>4</th>\n",
                            "      <td>5022</td>\n",
                            "      <td>Entire Apt: Spacious Studio/Loft by central park</td>\n",
                            "      <td>7192</td>\n",
                            "      <td>Laura</td>\n",
                            "      <td>Manhattan</td>\n",
                            "      <td>East Harlem</td>\n",
                            "      <td>40.79851</td>\n",
                            "      <td>-73.94399</td>\n",
                            "      <td>Entire home/apt</td>\n",
                            "      <td>80</td>\n",
                            "      <td>10</td>\n",
                            "      <td>9</td>\n",
                            "      <td>2018-11-19</td>\n",
                            "      <td>0.10</td>\n",
                            "      <td>1</td>\n",
                            "      <td>0</td>\n",
                            "    </tr>\n",
                            "  </tbody>\n",
                            "</table>\n",
                            "</div>"
                        ],
                        "text/plain": [
                            "     id                                              name  host_id  \\\n",
                            "0  2539                Clean & quiet apt home by the park     2787   \n",
                            "1  2595                             Skylit Midtown Castle     2845   \n",
                            "2  3647               THE VILLAGE OF HARLEM....NEW YORK !     4632   \n",
                            "3  3831                   Cozy Entire Floor of Brownstone     4869   \n",
                            "4  5022  Entire Apt: Spacious Studio/Loft by central park     7192   \n",
                            "\n",
                            "     host_name neighbourhood_group neighbourhood  latitude  longitude  \\\n",
                            "0         John            Brooklyn    Kensington  40.64749  -73.97237   \n",
                            "1     Jennifer           Manhattan       Midtown  40.75362  -73.98377   \n",
                            "2    Elisabeth           Manhattan        Harlem  40.80902  -73.94190   \n",
                            "3  LisaRoxanne            Brooklyn  Clinton Hill  40.68514  -73.95976   \n",
                            "4        Laura           Manhattan   East Harlem  40.79851  -73.94399   \n",
                            "\n",
                            "         room_type  price  minimum_nights  number_of_reviews last_review  \\\n",
                            "0     Private room    149               1                  9  2018-10-19   \n",
                            "1  Entire home/apt    225               1                 45  2019-05-21   \n",
                            "2     Private room    150               3                  0         NaN   \n",
                            "3  Entire home/apt     89               1                270  2019-07-05   \n",
                            "4  Entire home/apt     80              10                  9  2018-11-19   \n",
                            "\n",
                            "   reviews_per_month  calculated_host_listings_count  availability_365  \n",
                            "0               0.21                               6               365  \n",
                            "1               0.38                               2               355  \n",
                            "2                NaN                               1               365  \n",
                            "3               4.64                               1               194  \n",
                            "4               0.10                               1                 0  "
                        ]
                    },
                    "execution_count": 3,
                    "metadata": {},
                    "output_type": "execute_result"
                }
            ],
            "source": [
                "df.head()"
            ]
        },
        {
            "cell_type": "code",
            "execution_count": 4,
            "metadata": {},
            "outputs": [
                {
                    "data": {
                        "text/plain": [
                            "id                                  int64\n",
                            "name                               object\n",
                            "host_id                             int64\n",
                            "host_name                          object\n",
                            "neighbourhood_group                object\n",
                            "neighbourhood                      object\n",
                            "latitude                          float64\n",
                            "longitude                         float64\n",
                            "room_type                          object\n",
                            "price                               int64\n",
                            "minimum_nights                      int64\n",
                            "number_of_reviews                   int64\n",
                            "last_review                        object\n",
                            "reviews_per_month                 float64\n",
                            "calculated_host_listings_count      int64\n",
                            "availability_365                    int64\n",
                            "dtype: object"
                        ]
                    },
                    "execution_count": 4,
                    "metadata": {},
                    "output_type": "execute_result"
                }
            ],
            "source": [
                "# Visualizamos los tipos de datos de cada columna del Dataframe\n",
                "\n",
                "df.dtypes"
            ]
        },
        {
            "cell_type": "code",
            "execution_count": 5,
            "metadata": {},
            "outputs": [],
            "source": [
                "# Removiendo datos duplicados si existen\n",
                "\n",
                "df.duplicated().sum()\n",
                "df.drop_duplicates(inplace=True)"
            ]
        },
        {
            "cell_type": "markdown",
            "metadata": {},
            "source": [
                "Luego de visualizar previamente la cabecera del conjunto de datos, se puede notar que existen algunos valores NaN, por lo tanto necesitamos examinar más a fondo los valores faltantes antes de continuar con el análisis\n"
            ]
        },
        {
            "cell_type": "code",
            "execution_count": 6,
            "metadata": {},
            "outputs": [
                {
                    "data": {
                        "text/plain": [
                            "id                                    0\n",
                            "name                                 16\n",
                            "host_id                               0\n",
                            "host_name                            21\n",
                            "neighbourhood_group                   0\n",
                            "neighbourhood                         0\n",
                            "latitude                              0\n",
                            "longitude                             0\n",
                            "room_type                             0\n",
                            "price                                 0\n",
                            "minimum_nights                        0\n",
                            "number_of_reviews                     0\n",
                            "last_review                       10052\n",
                            "reviews_per_month                 10052\n",
                            "calculated_host_listings_count        0\n",
                            "availability_365                      0\n",
                            "dtype: int64"
                        ]
                    },
                    "execution_count": 6,
                    "metadata": {},
                    "output_type": "execute_result"
                }
            ],
            "source": [
                "#buscando averiguar primero qué columnas tienen valores nulos\n",
                "#utilizando la función 'sum' veremos cuántos valores nulos hay en cada columna del conjunto de datos\n",
                "\n",
                "df.isnull().sum()"
            ]
        },
        {
            "cell_type": "markdown",
            "metadata": {},
            "source": [
                "Los datos ausentes que se observan no necesitan un tratamiento demasiado especial. Si nos fijamos en la naturaleza de nuestro conjunto de datos, podemos afirmar otras cosas: las columnas \"id\", \"name\" y \"host_name\" son irrelevantes e insignificantes para nuestro análisis de datos; las columnas \"last_review\" es la fecha; si no hay valoraciones para el anuncio, la fecha simplemente no existe. En nuestro caso, esta columna es irrelevante e insignificante, por lo que no es necesario añadir esos valores.\n",
                "\n",
                "Para la columna \"review_per_month\" podemos simplemente añadirle 0.0 para los valores que faltan; podemos ver que en \"number_of_review\" esa columna tendrá un 0, por lo tanto siguiendo esta lógica con 0 opiniones totales habrá 0.0 tasa de opiniones por mes.\n",
                "\n",
                "Por lo tanto, vamos a proceder con la eliminación de las columnas que no son importantes y el manejo de los datos que faltan."
            ]
        },
        {
            "cell_type": "code",
            "execution_count": 7,
            "metadata": {},
            "outputs": [],
            "source": [
                "#eliminando las columnas que no son significativas o que podrían ser poco éticas para utilizarlas en nuestra futura exploración y predicción de datos.\n",
                "df.drop(['id','name','host_id','host_name','latitude','longitude','last_review'], axis=1, inplace=True)"
            ]
        },
        {
            "cell_type": "code",
            "execution_count": 8,
            "metadata": {},
            "outputs": [
                {
                    "name": "stdout",
                    "output_type": "stream",
                    "text": [
                        "(48895, 9)\n"
                    ]
                },
                {
                    "data": {
                        "text/html": [
                            "<div>\n",
                            "<style scoped>\n",
                            "    .dataframe tbody tr th:only-of-type {\n",
                            "        vertical-align: middle;\n",
                            "    }\n",
                            "\n",
                            "    .dataframe tbody tr th {\n",
                            "        vertical-align: top;\n",
                            "    }\n",
                            "\n",
                            "    .dataframe thead th {\n",
                            "        text-align: right;\n",
                            "    }\n",
                            "</style>\n",
                            "<table border=\"1\" class=\"dataframe\">\n",
                            "  <thead>\n",
                            "    <tr style=\"text-align: right;\">\n",
                            "      <th></th>\n",
                            "      <th>neighbourhood_group</th>\n",
                            "      <th>neighbourhood</th>\n",
                            "      <th>room_type</th>\n",
                            "      <th>price</th>\n",
                            "      <th>minimum_nights</th>\n",
                            "      <th>number_of_reviews</th>\n",
                            "      <th>reviews_per_month</th>\n",
                            "      <th>calculated_host_listings_count</th>\n",
                            "      <th>availability_365</th>\n",
                            "    </tr>\n",
                            "  </thead>\n",
                            "  <tbody>\n",
                            "    <tr>\n",
                            "      <th>0</th>\n",
                            "      <td>Brooklyn</td>\n",
                            "      <td>Kensington</td>\n",
                            "      <td>Private room</td>\n",
                            "      <td>149</td>\n",
                            "      <td>1</td>\n",
                            "      <td>9</td>\n",
                            "      <td>0.21</td>\n",
                            "      <td>6</td>\n",
                            "      <td>365</td>\n",
                            "    </tr>\n",
                            "    <tr>\n",
                            "      <th>1</th>\n",
                            "      <td>Manhattan</td>\n",
                            "      <td>Midtown</td>\n",
                            "      <td>Entire home/apt</td>\n",
                            "      <td>225</td>\n",
                            "      <td>1</td>\n",
                            "      <td>45</td>\n",
                            "      <td>0.38</td>\n",
                            "      <td>2</td>\n",
                            "      <td>355</td>\n",
                            "    </tr>\n",
                            "    <tr>\n",
                            "      <th>2</th>\n",
                            "      <td>Manhattan</td>\n",
                            "      <td>Harlem</td>\n",
                            "      <td>Private room</td>\n",
                            "      <td>150</td>\n",
                            "      <td>3</td>\n",
                            "      <td>0</td>\n",
                            "      <td>NaN</td>\n",
                            "      <td>1</td>\n",
                            "      <td>365</td>\n",
                            "    </tr>\n",
                            "  </tbody>\n",
                            "</table>\n",
                            "</div>"
                        ],
                        "text/plain": [
                            "  neighbourhood_group neighbourhood        room_type  price  minimum_nights  \\\n",
                            "0            Brooklyn    Kensington     Private room    149               1   \n",
                            "1           Manhattan       Midtown  Entire home/apt    225               1   \n",
                            "2           Manhattan        Harlem     Private room    150               3   \n",
                            "\n",
                            "   number_of_reviews  reviews_per_month  calculated_host_listings_count  \\\n",
                            "0                  9               0.21                               6   \n",
                            "1                 45               0.38                               2   \n",
                            "2                  0                NaN                               1   \n",
                            "\n",
                            "   availability_365  \n",
                            "0               365  \n",
                            "1               355  \n",
                            "2               365  "
                        ]
                    },
                    "execution_count": 8,
                    "metadata": {},
                    "output_type": "execute_result"
                }
            ],
            "source": [
                "#Examinando los cambios\n",
                "print(df.shape)\n",
                "df.head(3)"
            ]
        },
        {
            "cell_type": "code",
            "execution_count": 9,
            "metadata": {},
            "outputs": [],
            "source": [
                "#reemplazando todos los valores NaN en 'reviews_per_month' por 0\n",
                "df.fillna({'reviews_per_month':0}, inplace=True)"
            ]
        },
        {
            "cell_type": "code",
            "execution_count": 10,
            "metadata": {},
            "outputs": [
                {
                    "data": {
                        "text/plain": [
                            "0"
                        ]
                    },
                    "execution_count": 10,
                    "metadata": {},
                    "output_type": "execute_result"
                }
            ],
            "source": [
                "#Examinando los cambios\n",
                "df.reviews_per_month.isnull().sum()"
            ]
        },
        {
            "cell_type": "code",
            "execution_count": 11,
            "metadata": {},
            "outputs": [
                {
                    "name": "stdout",
                    "output_type": "stream",
                    "text": [
                        "<class 'pandas.core.frame.DataFrame'>\n",
                        "RangeIndex: 48895 entries, 0 to 48894\n",
                        "Data columns (total 9 columns):\n",
                        " #   Column                          Non-Null Count  Dtype  \n",
                        "---  ------                          --------------  -----  \n",
                        " 0   neighbourhood_group             48895 non-null  object \n",
                        " 1   neighbourhood                   48895 non-null  object \n",
                        " 2   room_type                       48895 non-null  object \n",
                        " 3   price                           48895 non-null  int64  \n",
                        " 4   minimum_nights                  48895 non-null  int64  \n",
                        " 5   number_of_reviews               48895 non-null  int64  \n",
                        " 6   reviews_per_month               48895 non-null  float64\n",
                        " 7   calculated_host_listings_count  48895 non-null  int64  \n",
                        " 8   availability_365                48895 non-null  int64  \n",
                        "dtypes: float64(1), int64(5), object(3)\n",
                        "memory usage: 3.4+ MB\n"
                    ]
                }
            ],
            "source": [
                "df.isnull().sum()\n",
                "df.dropna(how='any',inplace=True)\n",
                "df.info()"
            ]
        },
        {
            "cell_type": "markdown",
            "metadata": {},
            "source": [
                "## Análisis y visualización de variables univariante\n",
                "Para variables categoricas: neighbourhood_group, neighbourhood y room_type.\n"
            ]
        },
        {
            "cell_type": "markdown",
            "metadata": {},
            "source": [
                "### neighbourhood_group"
            ]
        },
        {
            "cell_type": "code",
            "execution_count": 12,
            "metadata": {},
            "outputs": [
                {
                    "data": {
                        "text/plain": [
                            "array(['Brooklyn', 'Manhattan', 'Queens', 'Staten Island', 'Bronx'],\n",
                            "      dtype=object)"
                        ]
                    },
                    "execution_count": 12,
                    "metadata": {},
                    "output_type": "execute_result"
                }
            ],
            "source": [
                "df.neighbourhood_group.unique()"
            ]
        },
        {
            "cell_type": "code",
            "execution_count": 13,
            "metadata": {},
            "outputs": [
                {
                    "data": {
                        "image/png": "[encoded data removed]",
                        "text/plain": [
                            "<Figure size 1000x400 with 1 Axes>"
                        ]
                    },
                    "metadata": {},
                    "output_type": "display_data"
                }
            ],
            "source": [
                "plt.figure(figsize=(10, 4))\n",
                "sns.histplot(data=df, x=\"neighbourhood_group\", hue=\"neighbourhood_group\", palette=\"bright\", legend=False)\n",
                "plt.title('Neighbourhood Group')\n",
                "plt.show()"
            ]
        }
    ],
    "metadata": {
        "kernelspec": {
            "display_name": "Python 3.8.13 64-bit ('3.8.13')",
            "language": "python",
            "name": "python3"
        },
        "language_info": {
            "codemirror_mode": {
                "name": "ipython",
                "version": 3
            },
            "file_extension": ".py",
            "mimetype": "text/x-python",
            "name": "python",
            "nbconvert_exporter": "python",
            "pygments_lexer": "ipython3",
            "version": "3.11.4"
        },
        "orig_nbformat": 4,
        "vscode": {
            "interpreter": {
                "hash": "110cc1dee26208153f2972f08a2ad52b6a56238dc66d48e87fb757ef2996db56"
            }
        }
    },
    "nbformat": 4,
    "nbformat_minor": 2
}
